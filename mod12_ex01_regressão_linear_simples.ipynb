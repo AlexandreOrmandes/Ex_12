{
  "cells": [
    {
      "cell_type": "code",
      "source": [
        "import pandas as pd\n",
        "import seaborn as sns\n",
        "from seaborn import load_dataset\n",
        "\n",
        "import matplotlib.pyplot as plt\n",
        "\n",
        "import numpy as np\n",
        "\n",
        "import statsmodels.formula.api as smf"
      ],
      "metadata": {
        "id": "oKf7ZmDmAspx"
      },
      "execution_count": null,
      "outputs": []
    },
    {
      "cell_type": "markdown",
      "metadata": {
        "id": "n4QlRftyALvH"
      },
      "source": [
        "# Regressão 01 - tarefa 01"
      ]
    },
    {
      "cell_type": "markdown",
      "metadata": {
        "id": "opMojN0cALvK"
      },
      "source": [
        "### 1. Explorando a base de gorjetas\n",
        "\n",
        "a. Na aula fizemos uma regressão de ```tip``` explicada por ```net_bill```. Carregue os pacotes e a base, crie as variáveis necessárias como na aula, e reproduza esta regressão.\n",
        "\n",
        "b. Reproduza também o gráfico de dispersão dessas duas variáveis."
      ]
    },
    {
      "cell_type": "code",
      "source": [
        "tips = sns.load_dataset(\"tips\")\n",
        "tips['tip_pct'] = tips['tip'] / (tips['total_bill'] - tips['tip'])\n",
        "tips['net_bill'] = tips['total_bill'] - tips['tip']\n",
        "tips.head()"
      ],
      "metadata": {
        "colab": {
          "base_uri": "https://localhost:8080/",
          "height": 206
        },
        "id": "df-zClGeArNn",
        "outputId": "16f76473-23ba-41bc-d3b8-1f411f3ba924"
      },
      "execution_count": null,
      "outputs": [
        {
          "output_type": "execute_result",
          "data": {
            "text/plain": [
              "   total_bill   tip     sex smoker  day    time  size   tip_pct  net_bill\n",
              "0       16.99  1.01  Female     No  Sun  Dinner     2  0.063204     15.98\n",
              "1       10.34  1.66    Male     No  Sun  Dinner     3  0.191244      8.68\n",
              "2       21.01  3.50    Male     No  Sun  Dinner     3  0.199886     17.51\n",
              "3       23.68  3.31    Male     No  Sun  Dinner     2  0.162494     20.37\n",
              "4       24.59  3.61  Female     No  Sun  Dinner     4  0.172069     20.98"
            ],
            "text/html": [
              "\n",
              "  <div id=\"df-0ccca911-5247-4787-be5d-cdbd531be63a\" class=\"colab-df-container\">\n",
              "    <div>\n",
              "<style scoped>\n",
              "    .dataframe tbody tr th:only-of-type {\n",
              "        vertical-align: middle;\n",
              "    }\n",
              "\n",
              "    .dataframe tbody tr th {\n",
              "        vertical-align: top;\n",
              "    }\n",
              "\n",
              "    .dataframe thead th {\n",
              "        text-align: right;\n",
              "    }\n",
              "</style>\n",
              "<table border=\"1\" class=\"dataframe\">\n",
              "  <thead>\n",
              "    <tr style=\"text-align: right;\">\n",
              "      <th></th>\n",
              "      <th>total_bill</th>\n",
              "      <th>tip</th>\n",
              "      <th>sex</th>\n",
              "      <th>smoker</th>\n",
              "      <th>day</th>\n",
              "      <th>time</th>\n",
              "      <th>size</th>\n",
              "      <th>tip_pct</th>\n",
              "      <th>net_bill</th>\n",
              "    </tr>\n",
              "  </thead>\n",
              "  <tbody>\n",
              "    <tr>\n",
              "      <th>0</th>\n",
              "      <td>16.99</td>\n",
              "      <td>1.01</td>\n",
              "      <td>Female</td>\n",
              "      <td>No</td>\n",
              "      <td>Sun</td>\n",
              "      <td>Dinner</td>\n",
              "      <td>2</td>\n",
              "      <td>0.063204</td>\n",
              "      <td>15.98</td>\n",
              "    </tr>\n",
              "    <tr>\n",
              "      <th>1</th>\n",
              "      <td>10.34</td>\n",
              "      <td>1.66</td>\n",
              "      <td>Male</td>\n",
              "      <td>No</td>\n",
              "      <td>Sun</td>\n",
              "      <td>Dinner</td>\n",
              "      <td>3</td>\n",
              "      <td>0.191244</td>\n",
              "      <td>8.68</td>\n",
              "    </tr>\n",
              "    <tr>\n",
              "      <th>2</th>\n",
              "      <td>21.01</td>\n",
              "      <td>3.50</td>\n",
              "      <td>Male</td>\n",
              "      <td>No</td>\n",
              "      <td>Sun</td>\n",
              "      <td>Dinner</td>\n",
              "      <td>3</td>\n",
              "      <td>0.199886</td>\n",
              "      <td>17.51</td>\n",
              "    </tr>\n",
              "    <tr>\n",
              "      <th>3</th>\n",
              "      <td>23.68</td>\n",
              "      <td>3.31</td>\n",
              "      <td>Male</td>\n",
              "      <td>No</td>\n",
              "      <td>Sun</td>\n",
              "      <td>Dinner</td>\n",
              "      <td>2</td>\n",
              "      <td>0.162494</td>\n",
              "      <td>20.37</td>\n",
              "    </tr>\n",
              "    <tr>\n",
              "      <th>4</th>\n",
              "      <td>24.59</td>\n",
              "      <td>3.61</td>\n",
              "      <td>Female</td>\n",
              "      <td>No</td>\n",
              "      <td>Sun</td>\n",
              "      <td>Dinner</td>\n",
              "      <td>4</td>\n",
              "      <td>0.172069</td>\n",
              "      <td>20.98</td>\n",
              "    </tr>\n",
              "  </tbody>\n",
              "</table>\n",
              "</div>\n",
              "    <div class=\"colab-df-buttons\">\n",
              "\n",
              "  <div class=\"colab-df-container\">\n",
              "    <button class=\"colab-df-convert\" onclick=\"convertToInteractive('df-0ccca911-5247-4787-be5d-cdbd531be63a')\"\n",
              "            title=\"Convert this dataframe to an interactive table.\"\n",
              "            style=\"display:none;\">\n",
              "\n",
              "  <svg xmlns=\"http://www.w3.org/2000/svg\" height=\"24px\" viewBox=\"0 -960 960 960\">\n",
              "    <path d=\"M120-120v-720h720v720H120Zm60-500h600v-160H180v160Zm220 220h160v-160H400v160Zm0 220h160v-160H400v160ZM180-400h160v-160H180v160Zm440 0h160v-160H620v160ZM180-180h160v-160H180v160Zm440 0h160v-160H620v160Z\"/>\n",
              "  </svg>\n",
              "    </button>\n",
              "\n",
              "  <style>\n",
              "    .colab-df-container {\n",
              "      display:flex;\n",
              "      gap: 12px;\n",
              "    }\n",
              "\n",
              "    .colab-df-convert {\n",
              "      background-color: #E8F0FE;\n",
              "      border: none;\n",
              "      border-radius: 50%;\n",
              "      cursor: pointer;\n",
              "      display: none;\n",
              "      fill: #1967D2;\n",
              "      height: 32px;\n",
              "      padding: 0 0 0 0;\n",
              "      width: 32px;\n",
              "    }\n",
              "\n",
              "    .colab-df-convert:hover {\n",
              "      background-color: #E2EBFA;\n",
              "      box-shadow: 0px 1px 2px rgba(60, 64, 67, 0.3), 0px 1px 3px 1px rgba(60, 64, 67, 0.15);\n",
              "      fill: #174EA6;\n",
              "    }\n",
              "\n",
              "    .colab-df-buttons div {\n",
              "      margin-bottom: 4px;\n",
              "    }\n",
              "\n",
              "    [theme=dark] .colab-df-convert {\n",
              "      background-color: #3B4455;\n",
              "      fill: #D2E3FC;\n",
              "    }\n",
              "\n",
              "    [theme=dark] .colab-df-convert:hover {\n",
              "      background-color: #434B5C;\n",
              "      box-shadow: 0px 1px 3px 1px rgba(0, 0, 0, 0.15);\n",
              "      filter: drop-shadow(0px 1px 2px rgba(0, 0, 0, 0.3));\n",
              "      fill: #FFFFFF;\n",
              "    }\n",
              "  </style>\n",
              "\n",
              "    <script>\n",
              "      const buttonEl =\n",
              "        document.querySelector('#df-0ccca911-5247-4787-be5d-cdbd531be63a button.colab-df-convert');\n",
              "      buttonEl.style.display =\n",
              "        google.colab.kernel.accessAllowed ? 'block' : 'none';\n",
              "\n",
              "      async function convertToInteractive(key) {\n",
              "        const element = document.querySelector('#df-0ccca911-5247-4787-be5d-cdbd531be63a');\n",
              "        const dataTable =\n",
              "          await google.colab.kernel.invokeFunction('convertToInteractive',\n",
              "                                                    [key], {});\n",
              "        if (!dataTable) return;\n",
              "\n",
              "        const docLinkHtml = 'Like what you see? Visit the ' +\n",
              "          '<a target=\"_blank\" href=https://colab.research.google.com/notebooks/data_table.ipynb>data table notebook</a>'\n",
              "          + ' to learn more about interactive tables.';\n",
              "        element.innerHTML = '';\n",
              "        dataTable['output_type'] = 'display_data';\n",
              "        await google.colab.output.renderOutput(dataTable, element);\n",
              "        const docLink = document.createElement('div');\n",
              "        docLink.innerHTML = docLinkHtml;\n",
              "        element.appendChild(docLink);\n",
              "      }\n",
              "    </script>\n",
              "  </div>\n",
              "\n",
              "\n",
              "<div id=\"df-0868ac02-0558-4fca-9f57-02ce87ecac91\">\n",
              "  <button class=\"colab-df-quickchart\" onclick=\"quickchart('df-0868ac02-0558-4fca-9f57-02ce87ecac91')\"\n",
              "            title=\"Suggest charts.\"\n",
              "            style=\"display:none;\">\n",
              "\n",
              "<svg xmlns=\"http://www.w3.org/2000/svg\" height=\"24px\"viewBox=\"0 0 24 24\"\n",
              "     width=\"24px\">\n",
              "    <g>\n",
              "        <path d=\"M19 3H5c-1.1 0-2 .9-2 2v14c0 1.1.9 2 2 2h14c1.1 0 2-.9 2-2V5c0-1.1-.9-2-2-2zM9 17H7v-7h2v7zm4 0h-2V7h2v10zm4 0h-2v-4h2v4z\"/>\n",
              "    </g>\n",
              "</svg>\n",
              "  </button>\n",
              "\n",
              "<style>\n",
              "  .colab-df-quickchart {\n",
              "      --bg-color: #E8F0FE;\n",
              "      --fill-color: #1967D2;\n",
              "      --hover-bg-color: #E2EBFA;\n",
              "      --hover-fill-color: #174EA6;\n",
              "      --disabled-fill-color: #AAA;\n",
              "      --disabled-bg-color: #DDD;\n",
              "  }\n",
              "\n",
              "  [theme=dark] .colab-df-quickchart {\n",
              "      --bg-color: #3B4455;\n",
              "      --fill-color: #D2E3FC;\n",
              "      --hover-bg-color: #434B5C;\n",
              "      --hover-fill-color: #FFFFFF;\n",
              "      --disabled-bg-color: #3B4455;\n",
              "      --disabled-fill-color: #666;\n",
              "  }\n",
              "\n",
              "  .colab-df-quickchart {\n",
              "    background-color: var(--bg-color);\n",
              "    border: none;\n",
              "    border-radius: 50%;\n",
              "    cursor: pointer;\n",
              "    display: none;\n",
              "    fill: var(--fill-color);\n",
              "    height: 32px;\n",
              "    padding: 0;\n",
              "    width: 32px;\n",
              "  }\n",
              "\n",
              "  .colab-df-quickchart:hover {\n",
              "    background-color: var(--hover-bg-color);\n",
              "    box-shadow: 0 1px 2px rgba(60, 64, 67, 0.3), 0 1px 3px 1px rgba(60, 64, 67, 0.15);\n",
              "    fill: var(--button-hover-fill-color);\n",
              "  }\n",
              "\n",
              "  .colab-df-quickchart-complete:disabled,\n",
              "  .colab-df-quickchart-complete:disabled:hover {\n",
              "    background-color: var(--disabled-bg-color);\n",
              "    fill: var(--disabled-fill-color);\n",
              "    box-shadow: none;\n",
              "  }\n",
              "\n",
              "  .colab-df-spinner {\n",
              "    border: 2px solid var(--fill-color);\n",
              "    border-color: transparent;\n",
              "    border-bottom-color: var(--fill-color);\n",
              "    animation:\n",
              "      spin 1s steps(1) infinite;\n",
              "  }\n",
              "\n",
              "  @keyframes spin {\n",
              "    0% {\n",
              "      border-color: transparent;\n",
              "      border-bottom-color: var(--fill-color);\n",
              "      border-left-color: var(--fill-color);\n",
              "    }\n",
              "    20% {\n",
              "      border-color: transparent;\n",
              "      border-left-color: var(--fill-color);\n",
              "      border-top-color: var(--fill-color);\n",
              "    }\n",
              "    30% {\n",
              "      border-color: transparent;\n",
              "      border-left-color: var(--fill-color);\n",
              "      border-top-color: var(--fill-color);\n",
              "      border-right-color: var(--fill-color);\n",
              "    }\n",
              "    40% {\n",
              "      border-color: transparent;\n",
              "      border-right-color: var(--fill-color);\n",
              "      border-top-color: var(--fill-color);\n",
              "    }\n",
              "    60% {\n",
              "      border-color: transparent;\n",
              "      border-right-color: var(--fill-color);\n",
              "    }\n",
              "    80% {\n",
              "      border-color: transparent;\n",
              "      border-right-color: var(--fill-color);\n",
              "      border-bottom-color: var(--fill-color);\n",
              "    }\n",
              "    90% {\n",
              "      border-color: transparent;\n",
              "      border-bottom-color: var(--fill-color);\n",
              "    }\n",
              "  }\n",
              "</style>\n",
              "\n",
              "  <script>\n",
              "    async function quickchart(key) {\n",
              "      const quickchartButtonEl =\n",
              "        document.querySelector('#' + key + ' button');\n",
              "      quickchartButtonEl.disabled = true;  // To prevent multiple clicks.\n",
              "      quickchartButtonEl.classList.add('colab-df-spinner');\n",
              "      try {\n",
              "        const charts = await google.colab.kernel.invokeFunction(\n",
              "            'suggestCharts', [key], {});\n",
              "      } catch (error) {\n",
              "        console.error('Error during call to suggestCharts:', error);\n",
              "      }\n",
              "      quickchartButtonEl.classList.remove('colab-df-spinner');\n",
              "      quickchartButtonEl.classList.add('colab-df-quickchart-complete');\n",
              "    }\n",
              "    (() => {\n",
              "      let quickchartButtonEl =\n",
              "        document.querySelector('#df-0868ac02-0558-4fca-9f57-02ce87ecac91 button');\n",
              "      quickchartButtonEl.style.display =\n",
              "        google.colab.kernel.accessAllowed ? 'block' : 'none';\n",
              "    })();\n",
              "  </script>\n",
              "</div>\n",
              "    </div>\n",
              "  </div>\n"
            ]
          },
          "metadata": {},
          "execution_count": 4
        }
      ]
    },
    {
      "cell_type": "code",
      "source": [
        "# Ajustar o modelo de regressão linear\n",
        "reg = smf.ols('tip ~ net_bill', data=tips).fit()\n",
        "# Exibir o sumário do modelo\n",
        "print(reg.summary())"
      ],
      "metadata": {
        "colab": {
          "base_uri": "https://localhost:8080/"
        },
        "id": "PdN6fgQUCO0N",
        "outputId": "bdfdcd76-b0e6-451b-b92f-cc99100a26dc"
      },
      "execution_count": null,
      "outputs": [
        {
          "output_type": "stream",
          "name": "stdout",
          "text": [
            "                            OLS Regression Results                            \n",
            "==============================================================================\n",
            "Dep. Variable:                    tip   R-squared:                       0.333\n",
            "Model:                            OLS   Adj. R-squared:                  0.330\n",
            "Method:                 Least Squares   F-statistic:                     120.6\n",
            "Date:                Wed, 27 Sep 2023   Prob (F-statistic):           5.02e-23\n",
            "Time:                        09:47:33   Log-Likelihood:                -375.63\n",
            "No. Observations:                 244   AIC:                             755.3\n",
            "Df Residuals:                     242   BIC:                             762.3\n",
            "Df Model:                           1                                         \n",
            "Covariance Type:            nonrobust                                         \n",
            "==============================================================================\n",
            "                 coef    std err          t      P>|t|      [0.025      0.975]\n",
            "------------------------------------------------------------------------------\n",
            "Intercept      1.3307      0.168      7.907      0.000       0.999       1.662\n",
            "net_bill       0.0993      0.009     10.980      0.000       0.082       0.117\n",
            "==============================================================================\n",
            "Omnibus:                       33.873   Durbin-Watson:                   2.123\n",
            "Prob(Omnibus):                  0.000   Jarque-Bera (JB):               59.942\n",
            "Skew:                           0.754   Prob(JB):                     9.63e-14\n",
            "Kurtosis:                       4.903   Cond. No.                         43.3\n",
            "==============================================================================\n",
            "\n",
            "Notes:\n",
            "[1] Standard Errors assume that the covariance matrix of the errors is correctly specified.\n"
          ]
        }
      ]
    },
    {
      "cell_type": "markdown",
      "source": [
        "**1. Cabeçalho:**\n",
        "\n",
        "Dep. Variable: A variável dependente, que estamos tentando prever. Neste caso, é a \"tip\" (gorjeta).\n",
        "\n",
        "\n",
        "R-squared: O coeficiente de determinação, que indica o quanto da variabilidade da variável dependente é explicada pelo modelo. Neste caso, é 0.333 ou 33.3%, o que significa que aproximadamente 33.3% da variabilidade em \"tip\" é explicada por \"net_bill\".\n",
        "\n",
        "\n",
        "Adj. R-squared: É o R-quadrado ajustado, que leva em consideração o número de preditores no modelo. É útil para comparar modelos com diferentes números de preditores.\n",
        "\n",
        "\n",
        "Method: O método utilizado para ajustar o modelo, que é         \n",
        "(Mínimos Quadrados).\n",
        "\n",
        "\n",
        "No. Observations: O número de observações usadas no modelo, que é 244 neste caso.\n",
        "\n",
        "\n",
        "---"
      ],
      "metadata": {
        "id": "vHHtHoz_vjmM"
      }
    },
    {
      "cell_type": "markdown",
      "source": [
        "\n",
        "**2. Tabela de Coeficientes:**\n",
        "\n",
        "\n",
        "   coef: Os coeficientes estimados para o modelo. O coeficiente para \"net_bill\" é 0.0993, o que significa que para cada aumento de uma unidade em \"net_bill\", a \"tip\" aumenta em 0.0993 unidades.\n",
        "\n",
        "\n",
        "   std err: O erro padrão dos coeficientes, que é uma medida da variação dos coeficientes.\n",
        "\n",
        "\n",
        "   t: O valor-t, que é usado para testar a hipótese nula de que o coeficiente é igual a zero (sem efeito).\n",
        "\n",
        "\n",
        "  P>|t|: O valor-p associado ao valor-t. Um valor-p pequeno (< 0.05) indica que você pode rejeitar a hipótese nula.\n",
        "\n",
        "\n",
        "  [0.025 0.975]: O intervalo de confiança de 95% para o coeficiente.\n",
        "\n",
        "  ---"
      ],
      "metadata": {
        "id": "UV4S_00-v6V9"
      }
    },
    {
      "cell_type": "markdown",
      "source": [
        "**3. Testes de Diagnóstico:**\n",
        "\n",
        "\n",
        "Omnibus/Prob(Omnibus): Um teste para a normalidade dos resíduos.\n",
        "\n",
        "\n",
        "Skew: Uma medida do grau de assimetria dos dados em torno da média.\n",
        "\n",
        "\n",
        "Kurtosis: Uma medida do \"achatamento\" da distribuição dos dados.\n",
        "\n",
        "\n",
        "Durbin-Watson: Um teste para detectar a presença de autocorrelação nos resíduos.\n",
        "\n",
        "---"
      ],
      "metadata": {
        "id": "-C74LWhCwSwp"
      }
    },
    {
      "cell_type": "code",
      "source": [
        "# Criar o gráfico de dispersão\n",
        "sns.scatterplot(x='net_bill', y='tip', data=tips)\n",
        "\n",
        "# Adicionar linha de regressão\n",
        "sns.regplot(x='net_bill', y='tip', data=tips, scatter=False, color='red')\n",
        "\n",
        "# Plotando a linha dos 10%\n",
        "plt.plot(x, y, '-r', label='linha dos 10%')\n",
        "\n",
        "# Mostrar o gráfico\n",
        "plt.show()"
      ],
      "metadata": {
        "colab": {
          "base_uri": "https://localhost:8080/",
          "height": 450
        },
        "id": "c9eY8FpcCKiZ",
        "outputId": "6864babc-6b4a-4bab-c964-96950fd083b3"
      },
      "execution_count": null,
      "outputs": [
        {
          "output_type": "display_data",
          "data": {
            "text/plain": [
              "<Figure size 640x480 with 1 Axes>"
            ],
            "image/png": "[encoded data removed]"
          },
          "metadata": {}
        }
      ]
    },
    {
      "cell_type": "markdown",
      "metadata": {
        "id": "5iOmvzopALvM"
      },
      "source": [
        "### 2. Mudança de perspectiva\n",
        "\n",
        "Agora ajuste um modelo de regressão de ```tip_pct``` por ```net_bill```. Construa o gráfico de dispersão correspondente."
      ]
    },
    {
      "cell_type": "code",
      "execution_count": null,
      "metadata": {
        "colab": {
          "base_uri": "https://localhost:8080/"
        },
        "id": "pp-_3AcFALvN",
        "outputId": "040077b9-7240-43e5-b0bf-2a3639be0e62"
      },
      "outputs": [
        {
          "output_type": "stream",
          "name": "stdout",
          "text": [
            "                            OLS Regression Results                            \n",
            "==============================================================================\n",
            "Dep. Variable:                tip_pct   R-squared:                       0.091\n",
            "Model:                            OLS   Adj. R-squared:                  0.088\n",
            "Method:                 Least Squares   F-statistic:                     24.31\n",
            "Date:                Wed, 27 Sep 2023   Prob (F-statistic):           1.52e-06\n",
            "Time:                        09:50:38   Log-Likelihood:                 108.00\n",
            "No. Observations:                 244   AIC:                            -212.0\n",
            "Df Residuals:                     242   BIC:                            -205.0\n",
            "Df Model:                           1                                         \n",
            "Covariance Type:            nonrobust                                         \n",
            "==============================================================================\n",
            "                 coef    std err          t      P>|t|      [0.025      0.975]\n",
            "------------------------------------------------------------------------------\n",
            "Intercept      0.3053      0.023     13.166      0.000       0.260       0.351\n",
            "net_bill      -0.0061      0.001     -4.931      0.000      -0.009      -0.004\n",
            "==============================================================================\n",
            "Omnibus:                      468.674   Durbin-Watson:                   1.987\n",
            "Prob(Omnibus):                  0.000   Jarque-Bera (JB):           234437.604\n",
            "Skew:                          11.104   Prob(JB):                         0.00\n",
            "Kurtosis:                     153.221   Cond. No.                         43.3\n",
            "==============================================================================\n",
            "\n",
            "Notes:\n",
            "[1] Standard Errors assume that the covariance matrix of the errors is correctly specified.\n"
          ]
        }
      ],
      "source": [
        "# Ajustar o novo modelo de regressão linear\n",
        "reg_pct = smf.ols('tip_pct ~ net_bill', data=tips).fit()\n",
        "\n",
        "# Exibir o sumário do novo modelo\n",
        "print(reg_pct.summary())\n"
      ]
    },
    {
      "cell_type": "code",
      "source": [
        "# Criar o gráfico de dispersão para tip_pct e net_bill\n",
        "sns.scatterplot(x='net_bill', y='tip_pct', data=tips)\n",
        "\n",
        "# Adicionar linha de regressão\n",
        "sns.regplot(x='net_bill', y='tip_pct', data=tips, scatter=False, color='red')\n",
        "\n",
        "# Plotando a linha dos 10%\n",
        "plt.plot(x, y, '-r', label='linha dos 10%')\n",
        "\n",
        "# Mostrar o gráfico\n",
        "plt.show()\n"
      ],
      "metadata": {
        "colab": {
          "base_uri": "https://localhost:8080/",
          "height": 450
        },
        "id": "kMloEKxBDELM",
        "outputId": "f608276b-0a16-4745-a446-cbb457e4898f"
      },
      "execution_count": null,
      "outputs": [
        {
          "output_type": "display_data",
          "data": {
            "text/plain": [
              "<Figure size 640x480 with 1 Axes>"
            ],
            "image/png": "[encoded data removed]"
          },
          "metadata": {}
        }
      ]
    },
    {
      "cell_type": "markdown",
      "source": [
        "Os resultados da regressão OLS para tip_pct mostram um R-quadrado de 0.091, o que indica que apenas cerca de 9,1% da variabilidade em tip_pct é explicada por net_bill. Isso é significativamente menor do que o R-quadrado para tip explicado por net_bill, que era de aproximadamente 33.3%.\n",
        "\n",
        "---"
      ],
      "metadata": {
        "id": "wxN8BpR_xxU6"
      }
    },
    {
      "cell_type": "markdown",
      "metadata": {
        "id": "KM0yATUiALvN"
      },
      "source": [
        "### 3. Comente\n",
        "\n",
        "Compare os dois gráficos e comente (de forma objetiva e suscinta) a relação entre eles e a diferença do ajuste. Podemos comparar diretamente os $R^2$s?"
      ]
    },
    {
      "cell_type": "code",
      "execution_count": null,
      "metadata": {
        "id": "p3hpPRIRALvN"
      },
      "outputs": [],
      "source": [
        "1. R-quadrado: O modelo para tip tem um R-quadrado maior, indicando um melhor ajuste em comparação com o modelo para tip_pct.\n",
        "\n",
        "2. Coeficientes: O coeficiente para net_bill no modelo de tip_pct é negativo, sugerindo que à medida que net_bill aumenta, tip_pct tende a diminuir. Isso é interessante e talvez contraintuitivo.\n",
        "\n",
        "3. Significância: Ambos os modelos são estatisticamente significativos (P < 0.05), mas o modelo para tip parece ser mais explicativo.\n",
        "\n",
        "4. Outliers e Distribuição: O teste Omnibus e o teste Jarque-Bera indicam que os resíduos não são normalmente distribuídos, o que pode ser uma preocupação para a inferência estatística.\n"
      ]
    },
    {
      "cell_type": "markdown",
      "source": [
        " ---\n",
        " **Podemos comparar diretamente os R²s?**\n",
        "\n",
        "Não é apropriado comparar diretamente os R-quadrados desses dois modelos porque eles estão modelando coisas diferentes (tip vs tip_pct). Além disso, o R-quadrado é sensível à escala da variável dependente, tornando a comparação direta enganosa. Seria mais útil comparar cada modelo com um modelo nulo para a mesma variável dependente ou usar outras métricas, como o AIC ou BIC, para avaliação do modelo."
      ],
      "metadata": {
        "id": "H8wHHERJx8i4"
      }
    },
    {
      "cell_type": "markdown",
      "metadata": {
        "id": "IRgsXJYjALvN"
      },
      "source": [
        "### 4. Ajuste do modelo em outra escala\n",
        "\n",
        "Com o modelo no item 3, obtenha a preditiva do valor da gorjeta:\n",
        "  1. obtenha o valor predito ```pred``` para ```tip_pct``` (dica, veja o atributo ```reg.fittedvalues```)\n",
        "  2. obtenha o valor predito para ```tip``` como ```tip_pct * net_bill```\n",
        "  3. calcule o $R^2$ do modelo para ```tip```\n",
        "  4. compare esse $R^2$ com o do item 1"
      ]
    },
    {
      "cell_type": "code",
      "execution_count": null,
      "metadata": {
        "colab": {
          "base_uri": "https://localhost:8080/"
        },
        "id": "rHAqOK9jALvO",
        "outputId": "d21bc988-db82-48fd-905f-c0f107fc0020"
      },
      "outputs": [
        {
          "output_type": "stream",
          "name": "stdout",
          "text": [
            "R-quadrado para o Item 1: 0.3325407312323707\n",
            "R-quadrado para o Item 4: 0.12112385704528694\n",
            "Comparação dos valores de R-quadrado:\n",
            "Item 1: 0.3325407312323707\n",
            "Item 4: 0.12112385704528694\n"
          ]
        }
      ],
      "source": [
        "# Ajustando o modelo para 'tip' explicado por 'net_bill' (Item 1)\n",
        "reg1 = smf.ols('tip ~ net_bill', data=tips).fit()\n",
        "\n",
        "# Calculando o R-quadrado para o Item 1 usando o atributo rsquared do modelo ajustado\n",
        "r2_item1 = reg1.rsquared\n",
        "print(f'R-quadrado para o Item 1: {r2_item1}')\n",
        "\n",
        "# Ajustando o modelo para 'tip_pct' explicado por 'net_bill' (Item 3)\n",
        "reg3 = smf.ols('tip_pct ~ net_bill', data=tips).fit()\n",
        "\n",
        "# Obtendo os valores preditos para 'tip_pct'\n",
        "pred_tip_pct = reg3.fittedvalues\n",
        "\n",
        "# Calculando os valores preditos para 'tip'\n",
        "pred_tip = pred_tip_pct * tips['net_bill']\n",
        "\n",
        "# Ajustando um novo modelo para 'tip' usando os valores preditos\n",
        "reg4 = smf.ols('tip ~ pred_tip', data=tips).fit()\n",
        "\n",
        "# Calculando o R-quadrado para este modelo usando o atributo rsquared do modelo ajustado\n",
        "r2_for_tip = reg4.rsquared\n",
        "\n",
        "print(f'R-quadrado para o Item 4: {r2_for_tip}')\n",
        "\n",
        "# Comparando os valores de R-quadrado\n",
        "print(f'Comparação dos valores de R-quadrado:\\nItem 1: {r2_item1}\\nItem 4: {r2_for_tip}')"
      ]
    },
    {
      "cell_type": "markdown",
      "source": [
        "**Interpretação dos R-quadrados**\n",
        "\n",
        "\n",
        "* Item 1: O R-quadrado é 0.333, o que significa que aproximadamente 33,3% da variabilidade em tip é explicada por net_bill.\n",
        "\n",
        "* Item 4: O R-quadrado é 0.121, o que significa que apenas cerca de 12,1% da variabilidade em tip é explicada pelo modelo que usa tip_pct como intermediário."
      ],
      "metadata": {
        "id": "ZwOxdp_n1QHj"
      }
    },
    {
      "cell_type": "markdown",
      "source": [
        "**O que isso nos diz?**\n",
        "\n",
        "\n",
        "* Eficiência do Modelo: O modelo do Item 1 é mais eficiente em explicar a variabilidade em tip em comparação com o modelo do Item 4. Isso é evidenciado pelos valores de R-quadrado mais altos no Item 1.\n",
        "\n",
        "* Complexidade e Interpretação: O modelo do Item 4 é um pouco mais complexo, pois envolve uma etapa adicional (calcular tip_pct primeiro e depois usar isso para calcular tip). No entanto, isso não se traduz em um melhor ajuste, como visto pelo R-quadrado mais baixo.\n",
        "\n",
        "* Comparação Direta: Não é apropriado comparar esses R-quadrados diretamente, pois eles são para diferentes variáveis dependentes (tip vs. tip calculado de tip_pct). Além disso, o R-quadrado é sensível à escala da variável dependente."
      ],
      "metadata": {
        "id": "vUU1I2CG1bVo"
      }
    }
  ],
  "metadata": {
    "kernelspec": {
      "display_name": "Python 3",
      "language": "python",
      "name": "python3"
    },
    "language_info": {
      "codemirror_mode": {
        "name": "ipython",
        "version": 3
      },
      "file_extension": ".py",
      "mimetype": "text/x-python",
      "name": "python",
      "nbconvert_exporter": "python",
      "pygments_lexer": "ipython3",
      "version": "3.8.5"
    },
    "colab": {
      "provenance": []
    }
  },
  "nbformat": 4,
  "nbformat_minor": 0
}